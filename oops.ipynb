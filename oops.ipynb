{
  "nbformat": 4,
  "nbformat_minor": 0,
  "metadata": {
    "colab": {
      "provenance": [],
      "authorship_tag": "ABX9TyP5gks1lxukLUx5QQsHMxjp",
      "include_colab_link": true
    },
    "kernelspec": {
      "name": "python3",
      "display_name": "Python 3"
    },
    "language_info": {
      "name": "python"
    }
  },
  "cells": [
    {
      "cell_type": "markdown",
      "metadata": {
        "id": "view-in-github",
        "colab_type": "text"
      },
      "source": [
        "<a href=\"https://colab.research.google.com/github/msatyam832/Python-Programing/blob/master/oops.ipynb\" target=\"_parent\"><img src=\"https://colab.research.google.com/assets/colab-badge.svg\" alt=\"Open In Colab\"/></a>"
      ]
    },
    {
      "cell_type": "markdown",
      "source": [
        "#-------------------**OOPs Concepts in Python**------------------------------\n",
        "\n",
        "Class\n",
        "\n",
        "Objects\n",
        "\n",
        "Polymorphism\n",
        "\n",
        "Encapsulation\n",
        "\n",
        "Inheritance\n",
        "\n",
        "Data Abstraction"
      ],
      "metadata": {
        "id": "oN1mdLKwo3Fw"
      }
    },
    {
      "cell_type": "markdown",
      "source": [
        "\n",
        "**what is class**\n",
        "\n",
        "-> class is a blue print or template that define structure of object\n",
        "\n",
        "-> it is a collections of methods and attribute\n",
        "\n",
        "\n",
        "\n",
        "**what is object**\n",
        "\n",
        "-> object is a instance of a class."
      ],
      "metadata": {
        "id": "FvFxbIlNImTu"
      }
    },
    {
      "cell_type": "code",
      "source": [
        "# Example\n",
        "class bankaccount:\n",
        "  def openaccount(self,name,mobile_no):\n",
        "    print(\"welcome to ICICI Bank \",name )\n",
        "\n",
        "  def deposit(self,money):\n",
        "    print(\"your\", money ,\"suceesfully deposit in ICICI bank account\")\n",
        "\n",
        "  def withdraw(self,money):\n",
        "    print(\"your  suceesfully withdarw in ICICI bank account\")\n",
        "\n",
        "bank = bankaccount()\n",
        "bank.openaccount(\"satyam\",9540651261)\n",
        "bank.deposit(45000)\n",
        "bank.withdraw(1500)\n",
        "\n",
        "\n",
        "# NOTE: self point to the current object of the class\n"
      ],
      "metadata": {
        "colab": {
          "base_uri": "https://localhost:8080/"
        },
        "id": "n50n8VZZRcoe",
        "outputId": "8d217cea-e540-481c-942d-be69a1cd4668"
      },
      "execution_count": null,
      "outputs": [
        {
          "output_type": "stream",
          "name": "stdout",
          "text": [
            "welcome to ICICI Bank  satyam\n",
            "your 45000 suceesfully deposit in ICICI bank account\n",
            "your  suceesfully withdarw in ICICI bank account\n"
          ]
        }
      ]
    },
    {
      "cell_type": "markdown",
      "source": [
        "#**what is constructor ?**\n",
        "\n",
        "constructor is a special method   def __init__()  this method is called when we initialized the object or created the object\n",
        "\n",
        "**NOTE** : if u are not created any constructor then automatic constructor will  call\n",
        "\n",
        "**TYPES OF CONSTRUCTOR**\n",
        "\n",
        " 1) DEFAULT CONSTRUCTOR\n",
        "\n",
        " 2) PARAMETERIZED CONSTRUCTOR\n",
        "\n",
        "\n",
        " **default constructo**r: The default constructor is a simple constructor which doesn’t accept any arguments. Its definition has only one argument which is a refer current object of a class\n",
        "\n",
        "**parameterized constructor**: constructor with parameters is known as parameterized constructor. The parameterized constructor takes its first argument as a reference to the instance being constructed known as self and the rest of the arguments are provided by the programmer.\n"
      ],
      "metadata": {
        "id": "ZJjcrGQ-WMiz"
      }
    },
    {
      "cell_type": "code",
      "source": [
        "# DEFAULT CONSTRUCTOR\n",
        "class bank:\n",
        "  def __init__(self):\n",
        "    self.bank = \"State bank of india\"\n",
        "\n",
        "  def open_bank_account(self):\n",
        "    print(\"welcome to \",self.bank)\n",
        "\n",
        "bank =bank()\n",
        "bank.open_bank_account()\n",
        "\n",
        "\n",
        "#PARAMATRIZE CONSTRUCTOR\n",
        "class bank:\n",
        "  def __init__(self,bank):\n",
        "    self.bank = bank\n",
        "\n",
        "  def open_bank_account(self):\n",
        "    print(\"welcome to \",self.bank)\n",
        "\n",
        "bank =bank(\"ICICI BANK\")\n",
        "bank.open_bank_account()\n",
        "\n"
      ],
      "metadata": {
        "colab": {
          "base_uri": "https://localhost:8080/"
        },
        "id": "wCTAPD_2YFu0",
        "outputId": "2a2b5cef-a45c-4970-96fe-75463bf2689a"
      },
      "execution_count": null,
      "outputs": [
        {
          "output_type": "stream",
          "name": "stdout",
          "text": [
            "welcome to  State bank of india\n",
            "welcome to  ICICI BANK\n"
          ]
        }
      ]
    },
    {
      "cell_type": "markdown",
      "source": [
        "#**Inheritence**\n",
        "\n",
        "when one class inherut the property of another class is  as known as inheritene\n",
        "\n",
        "**Types of inheritence**\n",
        "\n",
        "1) single inheritence\n",
        "\n",
        "2) multilevel inheritence\n",
        "\n",
        "3) Multiple inhertence\n",
        "\n",
        "4) hirechical inheritence"
      ],
      "metadata": {
        "id": "EhAiByBNpUeb"
      }
    },
    {
      "cell_type": "markdown",
      "source": [
        "**single inheritence**\n",
        "\n",
        "when child class inherit the property of parents class is  as known as single inheritence"
      ],
      "metadata": {
        "id": "VSeQNQL8qCDQ"
      }
    },
    {
      "cell_type": "code",
      "source": [
        "class Parent:\n",
        "  def parent(self):\n",
        "    print(\"parent class\")\n",
        "\n",
        "class child(Parent):\n",
        "  def child(self):\n",
        "    print(\"child class\")\n",
        "\n",
        "obj = child()\n",
        "obj.child()\n",
        "obj.parent()\n"
      ],
      "metadata": {
        "colab": {
          "base_uri": "https://localhost:8080/"
        },
        "id": "yI7e78i9sDF8",
        "outputId": "0109cd99-ae32-4273-f7eb-e6d319e068f9"
      },
      "execution_count": null,
      "outputs": [
        {
          "output_type": "stream",
          "name": "stdout",
          "text": [
            "child class\n",
            "parent class\n"
          ]
        }
      ]
    },
    {
      "cell_type": "markdown",
      "source": [
        "**Multi level Inheritence**\n",
        "\n",
        "when class c inherit the propery of class B and class  B inherit the property of class A this process known as multi level inheritence  example family -life cycle"
      ],
      "metadata": {
        "id": "tMh3kCvitiX9"
      }
    },
    {
      "cell_type": "code",
      "source": [
        "class GrandFather:\n",
        "  def grand(self):\n",
        "    print(\"Grand Father class property\")\n",
        "\n",
        "class Father(GrandFather):\n",
        "  def father(self):\n",
        "    print(\"father class property\")\n",
        "\n",
        "class Child(Father):\n",
        "  def child(self):\n",
        "    print(\"child class property\")\n",
        "\n",
        "print(\"----------------------child class object-------------------------------------- \")\n",
        "child =Child()\n",
        "child.child()\n",
        "child.father()\n",
        "child.grand()"
      ],
      "metadata": {
        "colab": {
          "base_uri": "https://localhost:8080/"
        },
        "id": "gtf4U6x3uwhz",
        "outputId": "6a1745dc-a4ba-487b-bf00-5c641ab5cb21"
      },
      "execution_count": null,
      "outputs": [
        {
          "output_type": "stream",
          "name": "stdout",
          "text": [
            "----------------------child class object-------------------------------------- \n",
            "child class property\n",
            "father class property\n",
            "Grand Father class property\n"
          ]
        }
      ]
    },
    {
      "cell_type": "markdown",
      "source": [
        "**Multipe inheritence**\n",
        "\n",
        "when one class inherit the property of more than one class as known as multiple inhertitence"
      ],
      "metadata": {
        "id": "g2wKmSAl0P0B"
      }
    },
    {
      "cell_type": "code",
      "source": [
        "class Father:\n",
        "  def father(self):\n",
        "    print(\"Father classs\")\n",
        "\n",
        "class Mother:\n",
        "  def mother(self):\n",
        "    print(\"Mother classs\")\n",
        "\n",
        "class Child(Father,Mother):\n",
        "  def child(self):\n",
        "    print(\"child class property\")\n",
        "\n",
        "obj = Child()\n",
        "obj.mother()\n",
        "obj.father()"
      ],
      "metadata": {
        "colab": {
          "base_uri": "https://localhost:8080/"
        },
        "id": "sLdc_hwO0mna",
        "outputId": "157df898-d605-4e48-da06-4624c97d2dac"
      },
      "execution_count": null,
      "outputs": [
        {
          "output_type": "stream",
          "name": "stdout",
          "text": [
            "Mother classs\n",
            "Father classs\n"
          ]
        }
      ]
    },
    {
      "cell_type": "markdown",
      "source": [
        "**Hirerchal inheritence**\n",
        "\n",
        "when more than one child class inherit the property of parents class as known as herechial inheritence\n"
      ],
      "metadata": {
        "id": "JXgytCYY3cFM"
      }
    },
    {
      "cell_type": "code",
      "source": [
        "class Parent:\n",
        "  def parent(self):\n",
        "    print(\"parent class\")\n",
        "\n",
        "class child1(Parent):\n",
        "  def child1(self):\n",
        "    print(\"child class 1\")\n",
        "\n",
        "class child2(Parent):\n",
        "  def child2(self):\n",
        "    print(\"child class 2\")\n",
        "\n",
        "obj = child1()\n",
        "obj.child1()\n",
        "obj.parent()\n",
        "\n",
        "objj= child2()\n",
        "objj = objj.child2()"
      ],
      "metadata": {
        "colab": {
          "base_uri": "https://localhost:8080/"
        },
        "id": "ud8CmqkR42Wf",
        "outputId": "2b6ab62d-48b7-4a7a-855c-6455d105a0af"
      },
      "execution_count": null,
      "outputs": [
        {
          "output_type": "stream",
          "name": "stdout",
          "text": [
            "child class 1\n",
            "parent class\n",
            "child class 2\n"
          ]
        }
      ]
    },
    {
      "cell_type": "markdown",
      "source": [
        "#**Polymorphism**\n",
        "\n",
        "Polymorphism having many form example of method overiding"
      ],
      "metadata": {
        "id": "JT8IbhUAav9q"
      }
    },
    {
      "cell_type": "code",
      "source": [
        "class Student:\n",
        "  def intro(self):\n",
        "    print(\"welcome to india\")\n",
        "\n",
        "  def study(self):\n",
        "    print(\"some student can do graduation  some can't\")\n",
        "\n",
        "class College(Student):\n",
        "  def study(self):\n",
        "    print(\"college student can do graduation\")\n",
        "\n",
        "class School:\n",
        "  def study(self):\n",
        "    print(\"school student can't do graduation\")\n",
        "\n",
        "stud = Student()\n",
        "stud.study()\n",
        "clg = College()\n",
        "clg.study()\n",
        "schl = School()\n",
        "schl.study()\n"
      ],
      "metadata": {
        "colab": {
          "base_uri": "https://localhost:8080/"
        },
        "id": "TmLTg1AOcjPb",
        "outputId": "25fb9158-451c-4ef2-96d9-9881f59584be"
      },
      "execution_count": null,
      "outputs": [
        {
          "output_type": "stream",
          "name": "stdout",
          "text": [
            "some student can do graduation  some can't\n",
            "college student can do graduation\n",
            "school student can't do graduation\n"
          ]
        }
      ]
    },
    {
      "cell_type": "markdown",
      "source": [
        "#**Encapsulation**\n",
        "\n",
        "->  Enacpsulation means wraping of data in a single unit\n",
        "\n",
        "->  puts restrictions on accesing method and variables\n",
        "\n",
        "->  prevent accidental modification\n",
        "\n",
        "-------------------------------------**VARIABLE**------------------------------\n",
        "1) private accesifier(__a)\n",
        "\n",
        "2) protected accesifier(_a)\n",
        "\n",
        "3) public accesfier(a)\n",
        "\n"
      ],
      "metadata": {
        "id": "bUs3h-YbfkPA"
      }
    },
    {
      "cell_type": "code",
      "source": [
        "class A:\n",
        "  def __init__(self):\n",
        "    self._a =\"satyam\"\n",
        "\n",
        "class B(A):\n",
        "  def __init__(self):\n",
        "    A.__init__(self)\n",
        "    a = self._a\n",
        "    print(a)\n",
        "\n",
        "\n",
        "obj = B()\n"
      ],
      "metadata": {
        "colab": {
          "base_uri": "https://localhost:8080/"
        },
        "id": "VTLapwOEnqZL",
        "outputId": "e0f75ba0-b51d-40b4-ca00-1d28fbc8510b"
      },
      "execution_count": null,
      "outputs": [
        {
          "output_type": "stream",
          "name": "stdout",
          "text": [
            "satyam\n"
          ]
        }
      ]
    },
    {
      "cell_type": "markdown",
      "source": [
        "#**Abstraction**\n",
        "\n",
        "in abstraction hiding the unnecesary thing providing the necessary thing as known as abstraction\n",
        "\n",
        "**what is abstract method**\n",
        "\n",
        "abstract method is a method that declare without implementation\n",
        "\n"
      ],
      "metadata": {
        "id": "UT4l5Nrqz0gN"
      }
    },
    {
      "cell_type": "code",
      "source": [
        "from abc import ABC\n",
        "class Car(ABC):\n",
        "  def milege():\n",
        "    pass\n",
        "\n",
        "class Tata(Car):\n",
        "  def milege(self):\n",
        "    print(\"108km per hr\")\n",
        "\n",
        "class Suzuki(Car):\n",
        "  def milege(self):\n",
        "    print(\"98km per hr\")\n",
        "\n",
        "sz = Suzuki()\n",
        "sz.milege()\n",
        "\n",
        "tata = Tata()\n",
        "tata.milege()\n"
      ],
      "metadata": {
        "colab": {
          "base_uri": "https://localhost:8080/"
        },
        "id": "AVec-rYS3m8k",
        "outputId": "56592395-04c3-48c6-b673-96f657182a80"
      },
      "execution_count": null,
      "outputs": [
        {
          "output_type": "stream",
          "name": "stdout",
          "text": [
            "98km per hr\n",
            "108km per hr\n"
          ]
        }
      ]
    }
  ]
}