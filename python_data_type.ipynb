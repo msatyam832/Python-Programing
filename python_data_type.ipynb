{
  "nbformat": 4,
  "nbformat_minor": 0,
  "metadata": {
    "colab": {
      "provenance": [],
      "include_colab_link": true
    },
    "kernelspec": {
      "name": "python3",
      "display_name": "Python 3"
    },
    "language_info": {
      "name": "python"
    }
  },
  "cells": [
    {
      "cell_type": "markdown",
      "metadata": {
        "id": "view-in-github",
        "colab_type": "text"
      },
      "source": [
        "<a href=\"https://colab.research.google.com/github/msatyam832/Python-Programing/blob/master/python_data_type.ipynb\" target=\"_parent\"><img src=\"https://colab.research.google.com/assets/colab-badge.svg\" alt=\"Open In Colab\"/></a>"
      ]
    },
    {
      "cell_type": "markdown",
      "source": [
        "# ------------------------------------ **LIST** --------------------------\n",
        "\n",
        "-> list is a python data type where we can store different types of data like\n",
        "    int,float,string etc.\n",
        "\n",
        "--> list is a mutable data type\n",
        "\n",
        "--> '[]' with this symbol we can reperesnt list.\n",
        "\n",
        "\n",
        "--> orderd\n",
        "\n",
        "--> Read and write both operation can be done\n",
        "    \n"
      ],
      "metadata": {
        "id": "-EXZ2zdv4MUk"
      }
    },
    {
      "cell_type": "code",
      "source": [
        "# Example\n",
        "list1 = [\"satyam\",\"shivam\",1,2,3,4.5,2.5]\n",
        "print(list1)"
      ],
      "metadata": {
        "colab": {
          "base_uri": "https://localhost:8080/"
        },
        "id": "NRkW61En55bU",
        "outputId": "329a8058-11e2-41ae-e017-1d33e5977597"
      },
      "execution_count": null,
      "outputs": [
        {
          "output_type": "stream",
          "name": "stdout",
          "text": [
            "['satyam', 'shivam', 1, 2, 3, 4.5, 2.5]\n"
          ]
        }
      ]
    },
    {
      "cell_type": "markdown",
      "source": [
        "**Python - Add List Items**\n",
        "\n",
        "1) append\n",
        "\n",
        "2) insert\n",
        "\n",
        "3) extend"
      ],
      "metadata": {
        "id": "2NOheFIY667d"
      }
    },
    {
      "cell_type": "code",
      "source": [
        "# append()-------->\n",
        "# with the help of this function we can insert the element at last postion of current list\n",
        "list1.append(\"apple\")\n",
        "print(list1)"
      ],
      "metadata": {
        "colab": {
          "base_uri": "https://localhost:8080/"
        },
        "id": "wRGV_tgp74Fz",
        "outputId": "d68a253f-124d-45ca-f017-049a2f3792f3"
      },
      "execution_count": null,
      "outputs": [
        {
          "output_type": "stream",
          "name": "stdout",
          "text": [
            "['satyam', 'shivam', 1, 2, 3, 4.5, 2.5, 'apple']\n"
          ]
        }
      ]
    },
    {
      "cell_type": "code",
      "source": [
        "# insert()\n",
        "# with the help of this function we can insert the element at any particular index\n",
        "list1.insert(1,\"pawan\")\n",
        "print(list1)"
      ],
      "metadata": {
        "colab": {
          "base_uri": "https://localhost:8080/"
        },
        "id": "61rfkuJz2zB3",
        "outputId": "32fa499e-d1d5-459f-dbf3-8daa29d5d017"
      },
      "execution_count": null,
      "outputs": [
        {
          "output_type": "stream",
          "name": "stdout",
          "text": [
            "['satyam', 'pawan', 'shivam', 1, 2, 3, 4.5, 2.5, 'apple']\n"
          ]
        }
      ]
    },
    {
      "cell_type": "code",
      "source": [
        "#extend()----------->\n",
        "# with the help of this function we can insert the iter value like list,tuple\n",
        "data =[\"python\",\"java\",\"c\",\"php\"]\n",
        "list1.extend(data)\n",
        "print(\"list iter value = \",list1)\n",
        "\n",
        "data_tuple =(22,23)\n",
        "list1.extend(data_tuple)\n",
        "print(\"tuple iter value =\",list1)\n",
        "\n"
      ],
      "metadata": {
        "colab": {
          "base_uri": "https://localhost:8080/"
        },
        "id": "vak2q6tv3nsF",
        "outputId": "3e9b8de8-2429-4bd5-daea-933ebb7b190f"
      },
      "execution_count": null,
      "outputs": [
        {
          "output_type": "stream",
          "name": "stdout",
          "text": [
            "list iter value =  ['satyam', 'pawan', 'shivam', 1, 2, 3, 4.5, 2.5, 'apple', 'python', 'java', 'c', 'php']\n",
            "tuple iter value = ['satyam', 'pawan', 'shivam', 1, 2, 3, 4.5, 2.5, 'apple', 'python', 'java', 'c', 'php', 22, 23]\n"
          ]
        }
      ]
    },
    {
      "cell_type": "markdown",
      "source": [
        "Python - Access List Items\n",
        "--------------------------------->\n",
        "\n",
        "           0 ,      1,        2\n",
        "\n",
        "fruits =[\"apple\",\"bananna\",\"Grapes\"]\n",
        "\n",
        "          -3        -2        -1"
      ],
      "metadata": {
        "id": "OgqDFFol_bRC"
      }
    },
    {
      "cell_type": "code",
      "source": [
        "fruits =[\"apple\",\"bananna\",\"Grapes\"]\n",
        "print(fruits[0])\n"
      ],
      "metadata": {
        "colab": {
          "base_uri": "https://localhost:8080/"
        },
        "id": "mJw5kF0kBp6a",
        "outputId": "93c6429a-b99b-406f-8110-91e5b3f55961"
      },
      "execution_count": null,
      "outputs": [
        {
          "output_type": "stream",
          "name": "stdout",
          "text": [
            "apple\n"
          ]
        }
      ]
    },
    {
      "cell_type": "code",
      "source": [
        "fruits[-3]"
      ],
      "metadata": {
        "colab": {
          "base_uri": "https://localhost:8080/",
          "height": 35
        },
        "id": "-HTySiGtCYqR",
        "outputId": "8695ff4d-8dda-454e-e330-461451f782bf"
      },
      "execution_count": null,
      "outputs": [
        {
          "output_type": "execute_result",
          "data": {
            "text/plain": [
              "'apple'"
            ],
            "application/vnd.google.colaboratory.intrinsic+json": {
              "type": "string"
            }
          },
          "metadata": {},
          "execution_count": 29
        }
      ]
    },
    {
      "cell_type": "code",
      "source": [
        "fruits[-1]"
      ],
      "metadata": {
        "colab": {
          "base_uri": "https://localhost:8080/",
          "height": 35
        },
        "id": "hPhq5OrWCcoA",
        "outputId": "dba9e653-ef75-4622-9323-c20bedbd046c"
      },
      "execution_count": null,
      "outputs": [
        {
          "output_type": "execute_result",
          "data": {
            "text/plain": [
              "'Grapes'"
            ],
            "application/vnd.google.colaboratory.intrinsic+json": {
              "type": "string"
            }
          },
          "metadata": {},
          "execution_count": 32
        }
      ]
    },
    {
      "cell_type": "code",
      "source": [
        "fruits[0:]"
      ],
      "metadata": {
        "colab": {
          "base_uri": "https://localhost:8080/"
        },
        "id": "xcxuLf1fCpo1",
        "outputId": "cd41476e-4381-4908-ce24-9ef677d0c32b"
      },
      "execution_count": null,
      "outputs": [
        {
          "output_type": "execute_result",
          "data": {
            "text/plain": [
              "['apple', 'bananna', 'Grapes']"
            ]
          },
          "metadata": {},
          "execution_count": 35
        }
      ]
    },
    {
      "cell_type": "code",
      "source": [
        "fruits[::-1]"
      ],
      "metadata": {
        "colab": {
          "base_uri": "https://localhost:8080/"
        },
        "id": "qfoGoEcWCv7q",
        "outputId": "6043db38-f62a-4715-d9eb-a39dba79a6dc"
      },
      "execution_count": null,
      "outputs": [
        {
          "output_type": "execute_result",
          "data": {
            "text/plain": [
              "['Grapes', 'bananna', 'apple']"
            ]
          },
          "metadata": {},
          "execution_count": 41
        }
      ]
    },
    {
      "cell_type": "code",
      "source": [
        "num = [1,2,3,4,5,6,7]\n",
        "print(num[6:0:-2])\n",
        "\n",
        "print(num[7::-1])\n",
        "\n",
        "print(num[::])"
      ],
      "metadata": {
        "colab": {
          "base_uri": "https://localhost:8080/"
        },
        "id": "VB_Dm118DG2V",
        "outputId": "218444a1-9283-46ff-e43b-b184ff99f0ca"
      },
      "execution_count": null,
      "outputs": [
        {
          "output_type": "stream",
          "name": "stdout",
          "text": [
            "[7, 5, 3]\n",
            "[7, 6, 5, 4, 3, 2, 1]\n",
            "[1, 2, 3, 4, 5, 6, 7]\n"
          ]
        }
      ]
    },
    {
      "cell_type": "markdown",
      "source": [
        "**LIST FUNCTIONS**\n",
        "\n",
        "Aggregate function ---- min,max,sum,count\n",
        "\n",
        "Remove Function -------remove ,pop,del,clear\n",
        "\n",
        "other function -------- sort,reverse,index\n",
        "\\"
      ],
      "metadata": {
        "id": "YMNPy4AuFfSJ"
      }
    },
    {
      "cell_type": "code",
      "source": [
        "# Aggregate functions\n",
        "nums =[1,2,3,4,5,6,7,8,9,9]\n",
        "print(max(nums))\n",
        "print(min(nums))\n",
        "print(sum(nums))\n",
        "print(nums.count(9))"
      ],
      "metadata": {
        "colab": {
          "base_uri": "https://localhost:8080/"
        },
        "id": "U--RkYNyIc7O",
        "outputId": "b191632b-aa2d-4b7d-d66e-6085794de840"
      },
      "execution_count": null,
      "outputs": [
        {
          "output_type": "stream",
          "name": "stdout",
          "text": [
            "9\n",
            "1\n",
            "54\n",
            "2\n"
          ]
        }
      ]
    },
    {
      "cell_type": "code",
      "source": [
        "# Remove functions\n",
        "numers =[1,2,3,4,5,6,7,8]\n",
        "\n",
        "# remove data based on value\n",
        "numers.remove(2)\n",
        "print(numers)\n",
        "\n",
        "# remove data based on index\n",
        "numers.pop(0)\n",
        "print(numers)\n",
        "\n",
        "del numers[0]\n",
        "print(numers)\n",
        "\n",
        "numers.clear()\n",
        "print(numers)\n"
      ],
      "metadata": {
        "colab": {
          "base_uri": "https://localhost:8080/"
        },
        "id": "UESkANtAJUAU",
        "outputId": "b4464177-7f2a-4008-f1d0-c13682697446"
      },
      "execution_count": null,
      "outputs": [
        {
          "output_type": "stream",
          "name": "stdout",
          "text": [
            "[1, 3, 4, 5, 6, 7, 8]\n",
            "[3, 4, 5, 6, 7, 8]\n",
            "[4, 5, 6, 7, 8]\n",
            "[]\n"
          ]
        }
      ]
    },
    {
      "cell_type": "code",
      "source": [
        "# others functions\n",
        "numb = [9,4,7,1,2,4,3,5,6,7,8]\n",
        "\n",
        "numb.sort()\n",
        "print(numb)\n",
        "\n",
        "numb.reverse()\n",
        "print(numb)\n",
        "\n",
        "print(numb.index(9))\n",
        "\n",
        "print(2 in numb)"
      ],
      "metadata": {
        "colab": {
          "base_uri": "https://localhost:8080/"
        },
        "id": "371K6OzOMGg1",
        "outputId": "20898c60-ecd1-4021-bc9d-d20695722030"
      },
      "execution_count": null,
      "outputs": [
        {
          "output_type": "stream",
          "name": "stdout",
          "text": [
            "[1, 2, 3, 4, 4, 5, 6, 7, 7, 8, 9]\n",
            "[9, 8, 7, 7, 6, 5, 4, 4, 3, 2, 1]\n",
            "0\n",
            "True\n"
          ]
        }
      ]
    },
    {
      "cell_type": "markdown",
      "source": [
        "#----------------------------------**TUPLE**------------------------------\n",
        "\n",
        "--> tuple is a python data types. where we can store different types of data.\n",
        "\n",
        "--> tuple reperesentation  symbol  ' ()  '\n",
        "\n",
        "--> tuple is non mutable data types\n",
        "\n",
        "--> ordered\n",
        "\n",
        "\n",
        "--> only read operation can be done\n",
        "\n",
        "--> insert ,append ,extend operation can't be done\n",
        "\n",
        "--> remove operation can't be done\n"
      ],
      "metadata": {
        "id": "x8MI7A62Tya6"
      }
    },
    {
      "cell_type": "code",
      "source": [
        "tup = (1,2,3,\"satyam\",[\"apple,banana\"],2.5)\n",
        "print(type(tup))\n",
        "print(tup)"
      ],
      "metadata": {
        "colab": {
          "base_uri": "https://localhost:8080/"
        },
        "id": "0653rx5ZV49q",
        "outputId": "5ee44659-d876-431f-c1cb-415b4622eeb4"
      },
      "execution_count": null,
      "outputs": [
        {
          "output_type": "stream",
          "name": "stdout",
          "text": [
            "<class 'tuple'>\n",
            "(1, 2, 3, 'satyam', ['apple,banana'], 2.5)\n"
          ]
        }
      ]
    },
    {
      "cell_type": "code",
      "source": [
        "# Accesing the element\n",
        "data = [1,2,3,4,5,6,7,8,9]\n",
        "print(data[0])\n",
        "print(data[-1])\n",
        "print(data[0::1])\n",
        "print(data[::-1])"
      ],
      "metadata": {
        "colab": {
          "base_uri": "https://localhost:8080/"
        },
        "id": "o7JDUZ1oXBsb",
        "outputId": "efced8a6-9e12-45e4-ca37-9647f6b0382f"
      },
      "execution_count": null,
      "outputs": [
        {
          "output_type": "stream",
          "name": "stdout",
          "text": [
            "1\n",
            "9\n",
            "[1, 2, 3, 4, 5, 6, 7, 8, 9]\n",
            "[9, 8, 7, 6, 5, 4, 3, 2, 1]\n"
          ]
        }
      ]
    },
    {
      "cell_type": "code",
      "source": [
        "# aggregation_function = max,min,sum,count\n",
        "tup_data =[1,2,3,4,5,6,7,8]\n",
        "\n",
        "print(min(tup_data))\n",
        "print(max(tup_data))\n",
        "print(sum(tup_data))\n",
        "print(tup_data.count(7))"
      ],
      "metadata": {
        "colab": {
          "base_uri": "https://localhost:8080/"
        },
        "id": "TQ3mpoejdHK_",
        "outputId": "66165def-44aa-42a4-ff45-5b7982789fc3"
      },
      "execution_count": null,
      "outputs": [
        {
          "output_type": "stream",
          "name": "stdout",
          "text": [
            "1\n",
            "8\n",
            "36\n",
            "1\n"
          ]
        }
      ]
    },
    {
      "cell_type": "code",
      "source": [
        "fruits =()\n",
        "print(type(fruits))\n",
        "\n",
        "# Tuple is non mutable data types\n",
        "# insertion and remove operation is not there\n",
        "\n"
      ],
      "metadata": {
        "colab": {
          "base_uri": "https://localhost:8080/"
        },
        "id": "IpYNjCJ5eKvZ",
        "outputId": "0e752a0c-6f42-4ddc-c53a-a2b0f1472377"
      },
      "execution_count": null,
      "outputs": [
        {
          "output_type": "stream",
          "name": "stdout",
          "text": [
            "<class 'tuple'>\n"
          ]
        }
      ]
    },
    {
      "cell_type": "markdown",
      "source": [
        "#------------------**SETS**----------------------\n",
        "\n",
        "--> sets is python data types where we can store different types of data\n",
        "\n",
        "--> unordered\n",
        "\n",
        "--> mutable data types\n",
        "\n",
        "--> sets not allowed duplicate allowed\n",
        "\n",
        "--> indexing and slicing can't be  ( because unorderd)\n",
        "\n",
        "---> append ,insert ,extend not there  only add and update operation can be done\n",
        "\n"
      ],
      "metadata": {
        "id": "z5w0bXH7j3gz"
      }
    },
    {
      "cell_type": "code",
      "source": [
        "data = {1}\n",
        "print(type(data))\n",
        "# duplicacy not allowed\n",
        "s= {1,2,3,4,4,4,4,4}\n",
        "print(s)"
      ],
      "metadata": {
        "colab": {
          "base_uri": "https://localhost:8080/"
        },
        "id": "ruAQwP8XkzYF",
        "outputId": "cb210082-af52-487d-b738-ad00aec9c858"
      },
      "execution_count": null,
      "outputs": [
        {
          "output_type": "stream",
          "name": "stdout",
          "text": [
            "<class 'set'>\n",
            "{1, 2, 3, 4}\n"
          ]
        }
      ]
    },
    {
      "cell_type": "code",
      "source": [
        "#insert and update operation\n",
        "s= {1,2,3,4,5,6}\n",
        "\n",
        "# with the help of add method we can insert the  single value at a time\n",
        "s.add(7)\n",
        "print(s)\n",
        "\n",
        "# update() with the help of update method we can insert multiple data ta a time\n",
        "list1 = [\"apple\",\"Bananan\",\"oragne\"]\n",
        "s.update(list1)"
      ],
      "metadata": {
        "colab": {
          "base_uri": "https://localhost:8080/"
        },
        "id": "n_dsbHXABzyC",
        "outputId": "c1a7abba-194c-43fe-9fb1-141b2f8bf41b"
      },
      "execution_count": null,
      "outputs": [
        {
          "output_type": "stream",
          "name": "stdout",
          "text": [
            "{1, 2, 3, 4, 5, 6, 7}\n"
          ]
        }
      ]
    },
    {
      "cell_type": "code",
      "source": [
        "# Read operation accesing the value from sets\n",
        "# indexing and slicing not there\n",
        "# read operation using loops\n",
        "s= {1,2,3,4,5,6,7}\n",
        "for i in s:\n",
        "  print(i)\n",
        "\n",
        "\n",
        "#  Remove operations\n",
        "s.remove(2)\n",
        "print(s)\n"
      ],
      "metadata": {
        "colab": {
          "base_uri": "https://localhost:8080/"
        },
        "id": "0MVcRCM6GBUA",
        "outputId": "e6e8bb44-9338-445c-81aa-d03148ee5399"
      },
      "execution_count": null,
      "outputs": [
        {
          "output_type": "stream",
          "name": "stdout",
          "text": [
            "1\n",
            "2\n",
            "3\n",
            "4\n",
            "5\n",
            "6\n",
            "7\n",
            "{1, 3, 4, 5, 6, 7}\n",
            "None\n"
          ]
        }
      ]
    },
    {
      "cell_type": "code",
      "source": [
        "s1 = {1,2,3,4,5,\"apple\",\"satyam\"}\n",
        "s2 = {6,7,8,9,\"banana\",\"satyam\"}\n",
        "\n",
        "print(s1.union(s2))\n",
        "print(s1.intersection(s2))\n",
        "print(s1.difference(s2))"
      ],
      "metadata": {
        "colab": {
          "base_uri": "https://localhost:8080/"
        },
        "id": "Nk5dmkdDKFua",
        "outputId": "73cb7805-cf04-4620-d527-9ad536038ac8"
      },
      "execution_count": null,
      "outputs": [
        {
          "output_type": "stream",
          "name": "stdout",
          "text": [
            "{1, 2, 3, 4, 5, 'banana', 6, 7, 8, 9, 'apple', 'satyam'}\n",
            "{'satyam'}\n",
            "{1, 2, 3, 4, 5, 'apple'}\n"
          ]
        }
      ]
    },
    {
      "cell_type": "code",
      "source": [
        "set1 = {1,2,3,4,5,6,7}\n",
        "print(type(set1))\n",
        "print(set1)\n",
        "\n",
        "list1 =list(set1)\n",
        "set2 = set(list1)\n",
        "print(set2)\n",
        "print(list1)\n"
      ],
      "metadata": {
        "colab": {
          "base_uri": "https://localhost:8080/"
        },
        "id": "-RRJzYYvNtq0",
        "outputId": "7d6a5efa-cea9-4376-e01f-601d13c65294"
      },
      "execution_count": null,
      "outputs": [
        {
          "output_type": "stream",
          "name": "stdout",
          "text": [
            "<class 'set'>\n",
            "{1, 2, 3, 4, 5, 6, 7}\n",
            "{1, 2, 3, 4, 5, 6, 7}\n",
            "[1, 2, 3, 4, 5, 6, 7]\n"
          ]
        }
      ]
    },
    {
      "cell_type": "markdown",
      "source": [
        "#--------------------->**Dictionary**------------------------>\n",
        "\n",
        "--> dictionary is a python data type where we can store different type of data\n",
        "\n",
        "--> here we can store the data key and value format\n",
        "\n",
        "--> key always store unique value (can't store duplicate keys)\n",
        "\n",
        "--> value can be duplicate\n",
        "\n",
        "--> symbol reperesentation = \" { }\"\n",
        "\n",
        "--> except sets all data types can keys\n",
        "\n"
      ],
      "metadata": {
        "id": "pS8cZAQEgtz7"
      }
    },
    {
      "cell_type": "code",
      "source": [
        "dict = {}\n",
        "print(type(dict))\n"
      ],
      "metadata": {
        "colab": {
          "base_uri": "https://localhost:8080/"
        },
        "id": "TITSDEIc1_8-",
        "outputId": "49a9820a-96e5-46c3-b900-df40ec47d073"
      },
      "execution_count": null,
      "outputs": [
        {
          "output_type": "stream",
          "name": "stdout",
          "text": [
            "<class 'dict'>\n"
          ]
        }
      ]
    },
    {
      "cell_type": "code",
      "source": [
        "# Read operations\n",
        "dict = {1:\"apple\",2:\"banana\",3:\"orange\",4:\"grapes\"}\n",
        "\n",
        "#get keys\n",
        "print(dict.keys())\n",
        "\n",
        "#get values\n",
        "print(dict.values())\n",
        "\n",
        "# get value based on key\n",
        "print(dict.get(1,\"\"))\n",
        "print(dict[2])"
      ],
      "metadata": {
        "colab": {
          "base_uri": "https://localhost:8080/"
        },
        "id": "zBaXFQ0s2wR-",
        "outputId": "45f11235-9280-4784-cd3d-a4de04cd0739"
      },
      "execution_count": null,
      "outputs": [
        {
          "output_type": "stream",
          "name": "stdout",
          "text": [
            "dict_keys([1, 2, 3, 4])\n",
            "dict_values(['apple', 'banana', 'orange', 'grapes'])\n",
            "apple\n",
            "banana\n"
          ]
        }
      ]
    },
    {
      "cell_type": "code",
      "source": [
        "# write and update operations\n",
        "dict = {1:\"apple\",2:\"banana\",3:\"orange\",4:\"grapes\"}\n",
        "\n",
        "#add and change dictionary values\n",
        "dict[5]= \"guvavav\"\n",
        "print(dict)\n",
        "\n",
        "dict2 = {6:\"patoote\",7:\"tomatoe\"}\n",
        "print(dict2)\n",
        "\n",
        "# merge two dictionary\n",
        "dict.update(dict2)\n",
        "print(dict)\n",
        "\n",
        "dict.items()"
      ],
      "metadata": {
        "colab": {
          "base_uri": "https://localhost:8080/"
        },
        "id": "5VnzGyRI6YMi",
        "outputId": "91131d57-1514-486b-d3e4-2ee187dbd8b3"
      },
      "execution_count": null,
      "outputs": [
        {
          "output_type": "stream",
          "name": "stdout",
          "text": [
            "{1: 'apple', 2: 'banana', 3: 'orange', 4: 'grapes', 5: 'guvavav'}\n",
            "{6: 'patoote', 7: 'tomatoe'}\n",
            "{1: 'apple', 2: 'banana', 3: 'orange', 4: 'grapes', 5: 'guvavav', 6: 'patoote', 7: 'tomatoe'}\n"
          ]
        },
        {
          "output_type": "execute_result",
          "data": {
            "text/plain": [
              "dict_items([(1, 'apple'), (2, 'banana'), (3, 'orange'), (4, 'grapes'), (5, 'guvavav'), (6, 'patoote'), (7, 'tomatoe')])"
            ]
          },
          "metadata": {},
          "execution_count": 24
        }
      ]
    },
    {
      "cell_type": "code",
      "source": [
        "# remove operation\n",
        "\n",
        "dict = {1:\"apple\",2:\"banana\",3:\"grapes\"}\n",
        "\n",
        "# remove item based on keys\n",
        "dict.pop(2)\n",
        "print(dict)\n",
        "\n",
        "# last item delete\n",
        "dict.popitem()\n",
        "print(dict)"
      ],
      "metadata": {
        "colab": {
          "base_uri": "https://localhost:8080/"
        },
        "id": "VVqp_Uz58BdN",
        "outputId": "c7bde570-6612-4959-a8ae-fb07af86be39"
      },
      "execution_count": null,
      "outputs": [
        {
          "output_type": "stream",
          "name": "stdout",
          "text": [
            "{1: 'apple', 3: 'grapes'}\n",
            "{1: 'apple'}\n"
          ]
        }
      ]
    },
    {
      "cell_type": "code",
      "source": [
        "# some othe examples\n",
        "dict = {}\n",
        "dict[\"name\"]= \"satyam\"\n",
        "course = [\"python\",\"java\",\"c\"]\n",
        "dict[\"course_name\"] = course\n",
        "print(dict)\n",
        "\n",
        "# keys can't be duplicate but  it is not showing error in this case always taking latest values\n",
        "data = {\"name\":\"satyam\",\"name\":\"shivam\"}\n",
        "print(data[\"name\"])"
      ],
      "metadata": {
        "colab": {
          "base_uri": "https://localhost:8080/"
        },
        "id": "PF_Sia72FXua",
        "outputId": "6ac28a4a-e15e-4a8a-8356-ab135b8406ac"
      },
      "execution_count": null,
      "outputs": [
        {
          "output_type": "stream",
          "name": "stdout",
          "text": [
            "{'name': 'satyam', 'course_name': ['python', 'java', 'c']}\n",
            "shivam\n"
          ]
        }
      ]
    },
    {
      "cell_type": "markdown",
      "source": [
        "#---------------------------------->**String**-----------------------------------\n",
        "\n",
        "--> string is  a immutable data types\n",
        "\n",
        "--> example = \"python is a very easy language\"\n",
        "\n",
        "--> indexing and slicing can be done"
      ],
      "metadata": {
        "id": "86Niv27RGKUU"
      }
    },
    {
      "cell_type": "code",
      "source": [
        "# indexing and slicing\n",
        "\n",
        "s = \"pwskills\"\n",
        "print(s[0])\n",
        "print(s[0::])\n",
        "print(s[::-1])\n",
        "\n",
        "\n",
        "# concatination of two different strings\n",
        "s1 = \"satyam\"\n",
        "s2= \"mishra\"\n",
        "print(s1+s2)"
      ],
      "metadata": {
        "colab": {
          "base_uri": "https://localhost:8080/"
        },
        "id": "6NKeMXLZIsO8",
        "outputId": "1092dc07-40e6-4c92-d098-1cdf4bbb1aee"
      },
      "execution_count": null,
      "outputs": [
        {
          "output_type": "stream",
          "name": "stdout",
          "text": [
            "p\n",
            "pwskills\n",
            "sllikswp\n",
            "satyammishra\n"
          ]
        }
      ]
    },
    {
      "cell_type": "code",
      "source": [
        "s1 = \"pwskillS\"\n",
        "# check count of any char\n",
        "print(s1.count(\"l\"))\n",
        "\n",
        "# returning the first index of given string\n",
        "print(s1.find(\"p\"))\n",
        "\n",
        "#convert upper case\n",
        "print(s1.upper())\n",
        "\n",
        "#convert lower case\n",
        "print(s1.lower())\n",
        "\n",
        "# every first letter is a camel case\n",
        "data = \"satyam kumar mishra\"\n",
        "print(data.title())\n",
        "\n",
        "a= \"123pwskill\"\n",
        "print(a.isalpha())\n",
        "print(a.isnumeric())\n",
        "print(a.isalnum())\n",
        "\n",
        "\n"
      ],
      "metadata": {
        "colab": {
          "base_uri": "https://localhost:8080/"
        },
        "id": "OagDbSnyJV3V",
        "outputId": "7279a136-ce04-4333-81c1-6d772d254143"
      },
      "execution_count": null,
      "outputs": [
        {
          "output_type": "stream",
          "name": "stdout",
          "text": [
            "2\n",
            "0\n",
            "PWSKILLS\n",
            "pwskills\n",
            "Satyam Kumar Mishra\n",
            "False\n",
            "False\n",
            "True\n"
          ]
        }
      ]
    },
    {
      "cell_type": "code",
      "source": [
        "# split and join operation\n",
        "\n",
        "#split method: return the data in list format and seperate the value based on seperatror\n",
        "\n",
        "# join operation convert into string from any data types and return  data in string format\n",
        "\n",
        "str  = \"python is a good programing lanaguage\"\n",
        "data = str.split(\" \")\n",
        "print(data)\n",
        "rev =data[::-1]\n",
        "print(\" \".join(rev))\n"
      ],
      "metadata": {
        "colab": {
          "base_uri": "https://localhost:8080/"
        },
        "id": "-VvPB3F8NaRv",
        "outputId": "19c28198-c23c-4c49-c20c-a4bbe1874615"
      },
      "execution_count": null,
      "outputs": [
        {
          "output_type": "stream",
          "name": "stdout",
          "text": [
            "['python', 'is', 'a', 'good', 'programing', 'lanaguage']\n",
            "lanaguage programing good a is python\n"
          ]
        }
      ]
    },
    {
      "cell_type": "markdown",
      "source": [
        "#---------------------------------**Numbers**--------------------------\n",
        "\n",
        "Integer = 1\n",
        "\n",
        "float = 2.5\n",
        "\n",
        "Complex = ij\n",
        "\n",
        "non  mutable data types ======  string,tuple,number\n",
        "\n",
        "\n",
        "Thank You"
      ],
      "metadata": {
        "id": "9S2eDnqi1vQp"
      }
    }
  ]
}